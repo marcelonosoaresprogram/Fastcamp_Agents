{
 "cells": [
  {
   "cell_type": "code",
   "execution_count": 11,
   "id": "593a097d",
   "metadata": {},
   "outputs": [],
   "source": [
    "import requests"
   ]
  },
  {
   "cell_type": "code",
   "execution_count": 12,
   "id": "f0d78da1",
   "metadata": {},
   "outputs": [],
   "source": [
    "def request(url:str, text:str, chatId:str):\n",
    "    full_chat_id = f\"{chatId}@c.us\"\n",
    "    response = requests.post(url, \n",
    "                             json={\n",
    "                                    \"text\": text,\n",
    "                                    \"chatId\": full_chat_id,\n",
    "                                    \"session\": \"default\"\n",
    "                             })\n",
    "    if response.status_code not in (200, 201):\n",
    "        raise Exception(f\"Request failed with status code {response.status_code}: {response.text}\")\n",
    "    return response.json()\n"
   ]
  },
  {
   "cell_type": "code",
   "execution_count": 13,
   "id": "fea294cc",
   "metadata": {},
   "outputs": [],
   "source": [
    "endpoint = \"http://127.0.0.1:3000/api/sendText\"\n",
    "id = \"556285670164\"\n",
    "texto = \"mensagem enviada com sucesso\""
   ]
  },
  {
   "cell_type": "code",
   "execution_count": 15,
   "id": "8411566c",
   "metadata": {},
   "outputs": [],
   "source": [
    "teste = request(url= endpoint, text=texto, chatId=id)\n"
   ]
  },
  {
   "cell_type": "code",
   "execution_count": 18,
   "id": "e58a23a5",
   "metadata": {},
   "outputs": [
    {
     "name": "stdout",
     "output_type": "stream",
     "text": [
      "{'_data': {'id': {'fromMe': True, 'remote': '556285670164@c.us', 'id': '3EB04D8547D7D1AF13C5B5', 'self': 'out', '_serialized': 'true_556285670164@c.us_3EB04D8547D7D1AF13C5B5_out'}, 'viewed': False, 'body': 'mensagem enviada com sucesso', 'type': 'chat', 't': 1748351967, 'from': {'server': 'c.us', 'user': '556285670164', '_serialized': '556285670164@c.us'}, 'to': {'server': 'c.us', 'user': '556285670164', '_serialized': '556285670164@c.us'}, 'ack': 0, 'isNewMsg': True, 'star': False, 'kicNotified': False, 'isFromTemplate': False, 'pollInvalidated': False, 'isSentCagPollCreation': False, 'latestEditMsgKey': None, 'latestEditSenderTimestampMs': None, 'mentionedJidList': [], 'groupMentions': [], 'isEventCanceled': False, 'eventInvalidated': False, 'isVcardOverMmsDocument': False, 'isForwarded': False, 'hasReaction': False, 'productHeaderImageRejected': False, 'lastPlaybackProgress': 0, 'isDynamicReplyButtonsMsg': False, 'isCarouselCard': False, 'parentMsgId': None, 'callSilenceReason': None, 'isVideoCall': False, 'callDuration': None, 'callCreator': None, 'callParticipants': None, 'isMdHistoryMsg': False, 'stickerSentTs': 0, 'isAvatar': False, 'lastUpdateFromServerTs': 0, 'invokedBotWid': None, 'bizBotType': None, 'botResponseTargetId': None, 'botPluginType': None, 'botPluginReferenceIndex': None, 'botPluginSearchProvider': None, 'botPluginSearchUrl': None, 'botPluginSearchQuery': None, 'botPluginMaybeParent': False, 'botReelPluginThumbnailCdnUrl': None, 'botMessageDisclaimerText': None, 'botMsgBodyType': None, 'requiresDirectConnection': None, 'bizContentPlaceholderType': None, 'hostedBizEncStateMismatch': False, 'senderOrRecipientAccountTypeHosted': False, 'placeholderCreatedWhenAccountIsHosted': False, 'links': []}, 'id': {'fromMe': True, 'remote': '556285670164@c.us', 'id': '3EB04D8547D7D1AF13C5B5', 'self': 'out', '_serialized': 'true_556285670164@c.us_3EB04D8547D7D1AF13C5B5_out'}, 'ack': 0, 'hasMedia': False, 'body': 'mensagem enviada com sucesso', 'type': 'chat', 'timestamp': 1748351967, 'from': '556285670164@c.us', 'to': '556285670164@c.us', 'deviceType': 'android', 'isForwarded': False, 'forwardingScore': 0, 'isStatus': False, 'isStarred': False, 'fromMe': True, 'hasQuotedMsg': False, 'hasReaction': False, 'vCards': [], 'mentionedIds': [], 'groupMentions': [], 'isGif': False, 'links': []}\n"
     ]
    }
   ],
   "source": [
    "print(teste)"
   ]
  }
 ],
 "metadata": {
  "kernelspec": {
   "display_name": "venv",
   "language": "python",
   "name": "python3"
  },
  "language_info": {
   "codemirror_mode": {
    "name": "ipython",
    "version": 3
   },
   "file_extension": ".py",
   "mimetype": "text/x-python",
   "name": "python",
   "nbconvert_exporter": "python",
   "pygments_lexer": "ipython3",
   "version": "3.13.3"
  }
 },
 "nbformat": 4,
 "nbformat_minor": 5
}
