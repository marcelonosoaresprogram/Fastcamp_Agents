{
 "cells": [
  {
   "cell_type": "code",
   "execution_count": 9,
   "metadata": {},
   "outputs": [],
   "source": [
    "from best_teacher.crew import BestTeacher\n",
    "\n"
   ]
  },
  {
   "cell_type": "code",
   "execution_count": null,
   "metadata": {},
   "outputs": [],
   "source": [
    "\n",
    "inputs = {\n",
    "'topic': 'Probabilidade e estatística',\n",
    "'context': 'Quero aprender todo o tema da matéria, considerando que essa é uma matéria de faculdade.',\n",
    "'current_year': str(datetime.now().year)\n",
    "}\n",
    "\n",
    "try:\n",
    "    BestTeacher().crew().kickoff(inputs=inputs)\n",
    "except Exception as e:\n",
    "    raise Exception(f\"An error occurred while running the crew: {e}\")\n"
   ]
  }
 ],
 "metadata": {
  "kernelspec": {
   "display_name": ".venv",
   "language": "python",
   "name": "python3"
  },
  "language_info": {
   "codemirror_mode": {
    "name": "ipython",
    "version": 3
   },
   "file_extension": ".py",
   "mimetype": "text/x-python",
   "name": "python",
   "nbconvert_exporter": "python",
   "pygments_lexer": "ipython3",
   "version": "3.10.16"
  }
 },
 "nbformat": 4,
 "nbformat_minor": 2
}
