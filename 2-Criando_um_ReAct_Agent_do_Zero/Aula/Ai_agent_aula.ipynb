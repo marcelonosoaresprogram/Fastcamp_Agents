{
 "cells": [
  {
   "cell_type": "code",
   "execution_count": 1,
   "metadata": {},
   "outputs": [
    {
     "data": {
      "text/plain": [
       "True"
      ]
     },
     "execution_count": 1,
     "metadata": {},
     "output_type": "execute_result"
    }
   ],
   "source": [
    "#importação das bibliotecas\n",
    "from dotenv import load_dotenv\n",
    "import os\n",
    "load_dotenv()"
   ]
  },
  {
   "cell_type": "code",
   "execution_count": 2,
   "metadata": {},
   "outputs": [
    {
     "name": "stdout",
     "output_type": "stream",
     "text": [
      "Fast language models are crucial in the field of natural language processing (NLP) due to their ability to efficiently process and generate human-like language. The importance of fast language models can be highlighted in the following areas:\n",
      "\n",
      "1. **Real-time Applications**: Fast language models enable real-time applications such as chatbots, virtual assistants, and language translation systems. These models can quickly understand and respond to user input, providing an seamless and interactive experience.\n",
      "2. **Improved User Experience**: Fast language models can quickly generate text, summaries, or responses, reducing the time users need to wait for results. This leads to a better user experience, increased engagement, and higher satisfaction rates.\n",
      "3. **Scalability**: Fast language models can handle large volumes of data and user requests, making them ideal for large-scale applications such as customer service platforms, social media monitoring, and content generation.\n",
      "4. **Reduced Latency**: Fast language models minimize latency, which is critical in applications where timely responses are essential, such as in healthcare, finance, or emergency services.\n",
      "5. **Increased Accuracy**: Faster language models can process more data, leading to improved accuracy and better language understanding. This, in turn, enables more effective language translation, sentiment analysis, and text summarization.\n",
      "6. **Edge AI and IoT**: Fast language models are essential for edge AI and IoT applications, where devices have limited computing resources and require efficient language processing to function effectively.\n",
      "7. **Efficient Resource Utilization**: Fast language models can run on less powerful hardware, reducing energy consumption and minimizing the environmental impact of large-scale language processing.\n",
      "8. **Enhanced Language Understanding**: Fast language models can quickly process and analyze large amounts of language data, leading to a deeper understanding of language patterns, syntax, and semantics.\n",
      "9. **Competitive Advantage**: Organizations that leverage fast language models can gain a competitive advantage by providing faster, more accurate, and more efficient language-based services, such as language translation, content generation, and customer support.\n",
      "10. **Advancements in NLP Research**: Fast language models enable researchers to explore new areas of NLP research, such as multimodal processing, transfer learning, and few-shot learning, which can lead to breakthroughs in language understanding and generation.\n",
      "\n",
      "To achieve fast language models, researchers and developers employ various techniques, including:\n",
      "\n",
      "* Model pruning and quantization\n",
      "* Knowledge distillation\n",
      "* Efficient attention mechanisms\n",
      "* Parallel processing and distributed computing\n",
      "* Specialized hardware, such as GPUs and TPUs\n",
      "* Optimization algorithms, such as gradient descent and stochastic gradient descent\n",
      "\n",
      "By leveraging these techniques, fast language models can be developed to support a wide range of applications, from chatbots and virtual assistants to language translation and content generation, ultimately transforming the way we interact with language-based systems.\n"
     ]
    }
   ],
   "source": [
    "import os\n",
    "\n",
    "from groq import Groq\n",
    "\n",
    "#Requisição da API\n",
    "client = Groq(\n",
    "    api_key=os.environ.get(\"GROQ_API_KEY\"),\n",
    ")\n",
    "\n",
    "chat_completion = client.chat.completions.create(\n",
    "    messages=[\n",
    "        {\n",
    "            \"role\": \"user\",\n",
    "            \"content\": \"Explain the importance of fast language models\",\n",
    "        }\n",
    "    ],\n",
    "    model=\"llama-3.3-70b-versatile\",\n",
    ")\n",
    "#iniciando chat com o prompt: Explain the importance of fast language models.\n",
    "print(chat_completion.choices[0].message.content)"
   ]
  },
  {
   "cell_type": "code",
   "execution_count": 4,
   "metadata": {},
   "outputs": [],
   "source": [
    "#Criando a classe Agent com as entradas client e system(prompt do sistema)\n",
    "class Agent:\n",
    "    def __init__(self, client, system):\n",
    "        self.client = client\n",
    "        self.system = system\n",
    "        self.messages = []  #Esse campo será o histórico do chat. Nele as mensagens enviadas serão armazenadas, assim como os pensamentos do modelo.\n",
    "        if self.system is not None:\n",
    "            self.messages.append({\"role\": \"system\", \"content\": system})\n",
    "    #Essa função permite que a instância da classe seja tradada como uma função. A intância poderá ser chamada com o argumento message, que é o prompt do usuário\n",
    "    def __call__(self, message=\"\"):\n",
    "        if message:   #se houver message adicionar ele ao histórico\n",
    "            self.messages.append({\"role\":\"user\", \"content\": message})\n",
    "        result = self.execute()  #executar a função execute, que irá iniciar o chat\n",
    "        self.messages.append({\"role\": \"assistant\", \"content\": result}) # adicionar o resultado às mensagens\n",
    "        return result\n",
    "    \n",
    "    def execute(self): \n",
    "        completion = client.chat.completions.create( #criando o chat com o modelo llama3 e iniciando ele com as mensagens presentes no self.messages\n",
    "            model = \"llama3-70b-8192\",\n",
    "            messages = self.messages,\n",
    "        )\n",
    "        return completion.choices[0].message.content"
   ]
  },
  {
   "cell_type": "code",
   "execution_count": 5,
   "metadata": {},
   "outputs": [],
   "source": [
    "#prompt do sistema\n",
    "#definindo o fluxo de funcionamento do agente: pensamento, ação, pausa, observação e resposta(caso haja)\n",
    "#nesse prompt nós apresentamos ao agente as ferramentas que lhe estão disponíveis.\n",
    "system_prompt = \"\"\"\n",
    "You run in a loop of Thought, Action, PAUSE, Observation.\n",
    "At the end of the loop you output an Answer\n",
    "Use Thought to describe your thoughts about the question you have been asked.\n",
    "Use Action to run one of the actions available to you - then return PAUSE.\n",
    "Observation will be the result of running those actions.\n",
    "\n",
    "Your available actions are:\n",
    "\n",
    "calculate:\n",
    "e.g. calculate: 4 * 7 / 3\n",
    "Runs a calculation and returns the number - uses Python so be sure to use floating point syntax if necessary\n",
    "\n",
    "get_planet_mass:\n",
    "e.g. get_planet_mass: Earth\n",
    "returns weight of the planet in kg\n",
    "\n",
    "Example session:\n",
    "\n",
    "Question: What is the mass of Earth times 2?\n",
    "Thought: I need to find the mass of Earth\n",
    "Action: get_planet_mass: Earth\n",
    "PAUSE \n",
    "\n",
    "You will be called again with this:\n",
    "\n",
    "Observation: 5.972e24\n",
    "\n",
    "Thought: I need to multiply this by 2\n",
    "Action: calculate: 5.972e24 * 2\n",
    "PAUSE\n",
    "\n",
    "You will be called again with this: \n",
    "\n",
    "Observation: 1,1944×10e25\n",
    "\n",
    "If you have the answer, output it as the Answer.\n",
    "\n",
    "Answer: The mass of Earth times 2 is 1,1944×10e25.\n",
    "\n",
    "Now it's your turn:\n",
    "\"\"\".strip()"
   ]
  },
  {
   "cell_type": "code",
   "execution_count": 6,
   "metadata": {},
   "outputs": [],
   "source": [
    "# Ferramentas (Tools) \n",
    "def calculate(operation): #calculadora\n",
    "    return eval(operation)\n",
    "\n",
    "def get_planet_mass(planet) -> float: #encontrar a massa do planeta. Se o argumento corresponder a alguma string a função retornará o valor da string em massa\n",
    "    match planet.lower():\n",
    "        case \"earth\":\n",
    "            return 5.972e24\n",
    "        case \"mars\":\n",
    "            return 6.39e23\n",
    "        case \"jupiter\":\n",
    "            return 1.898e27\n",
    "        case \"saturn\":\n",
    "            return 5.683e26\n",
    "        case \"uranus\":\n",
    "            return 8.681e25\n",
    "        case \"neptune\":\n",
    "            return 1.024e26\n",
    "        case \"mercury\":\n",
    "            return 3.285e23\n",
    "        case \"venus\":\n",
    "            return 4.867e24\n",
    "        case _:\n",
    "            return 0.0"
   ]
  },
  {
   "cell_type": "code",
   "execution_count": 7,
   "metadata": {},
   "outputs": [],
   "source": [
    "neil_tyson = Agent(client, system = system_prompt)       #Instância da classe"
   ]
  },
  {
   "cell_type": "code",
   "execution_count": 8,
   "metadata": {},
   "outputs": [
    {
     "name": "stdout",
     "output_type": "stream",
     "text": [
      "Thought: I need to find the mass of Earth\n"
     ]
    }
   ],
   "source": [
    "result = neil_tyson(\"what is the mass of Earth times 5?\") #Primeiro prompt\n",
    "print(result)"
   ]
  },
  {
   "cell_type": "code",
   "execution_count": 10,
   "metadata": {},
   "outputs": [
    {
     "name": "stdout",
     "output_type": "stream",
     "text": [
      " \n",
      "Action: get_planet_mass: Earth \n",
      "PAUSE\n"
     ]
    }
   ],
   "source": [
    "result = neil_tyson()\n",
    "print(result)"
   ]
  },
  {
   "cell_type": "code",
   "execution_count": 13,
   "metadata": {},
   "outputs": [
    {
     "name": "stdout",
     "output_type": "stream",
     "text": [
      "5.972e+24\n"
     ]
    }
   ],
   "source": [
    "result = get_planet_mass(\"Earth\")   #executando a função para que o agente receba o valor dela como observação\n",
    "print(result)"
   ]
  },
  {
   "cell_type": "code",
   "execution_count": 14,
   "metadata": {},
   "outputs": [
    {
     "name": "stdout",
     "output_type": "stream",
     "text": [
      "Thought: I need to multiply this by 5\n"
     ]
    }
   ],
   "source": [
    "next_prompt = f\"Observation: {result}\"   #enviando a observação \n",
    "result = neil_tyson(next_prompt) # código seguirá a execução das ultimmas células até que a resposta seja obtida.\n",
    "print(result)"
   ]
  },
  {
   "cell_type": "code",
   "execution_count": 15,
   "metadata": {},
   "outputs": [
    {
     "name": "stdout",
     "output_type": "stream",
     "text": [
      "Action: calculate: 5.972e24 * 5\n",
      "PAUSE\n"
     ]
    }
   ],
   "source": [
    "result = neil_tyson(next_prompt) # código seguirá a execução das ultimmas células até que a resposta seja obtida.\n",
    "print(result)"
   ]
  },
  {
   "cell_type": "code",
   "execution_count": 16,
   "metadata": {},
   "outputs": [
    {
     "name": "stdout",
     "output_type": "stream",
     "text": [
      "2.9860000000000004e+25\n"
     ]
    }
   ],
   "source": [
    "result = calculate(\"5.972e24 * 5\")\n",
    "print(result)"
   ]
  },
  {
   "cell_type": "code",
   "execution_count": 17,
   "metadata": {},
   "outputs": [
    {
     "data": {
      "text/plain": [
       "'Observation: 2.9860000000000004e+25'"
      ]
     },
     "execution_count": 17,
     "metadata": {},
     "output_type": "execute_result"
    }
   ],
   "source": [
    "next_prompt = f\"Observation: {result}\"   #enviando a observação \n",
    "next_prompt"
   ]
  },
  {
   "cell_type": "code",
   "execution_count": 18,
   "metadata": {},
   "outputs": [
    {
     "name": "stdout",
     "output_type": "stream",
     "text": [
      "Answer: The mass of Earth times 5 is 2.9860000000000004e+25.\n"
     ]
    }
   ],
   "source": [
    "result = neil_tyson(next_prompt)\n",
    "print(result)"
   ]
  },
  {
   "cell_type": "code",
   "execution_count": 19,
   "metadata": {},
   "outputs": [
    {
     "data": {
      "text/plain": [
       "[{'role': 'system',\n",
       "  'content': \"You run in a loop of Thought, Action, PAUSE, Observation.\\nAt the end of the loop you output an Answer\\nUse Thought to describe your thoughts about the question you have been asked.\\nUse Action to run one of the actions available to you - then return PAUSE.\\nObservation will be the result of running those actions.\\n\\nYour available actions are:\\n\\ncalculate:\\ne.g. calculate: 4 * 7 / 3\\nRuns a calculation and returns the number - uses Python so be sure to use floating point syntax if necessary\\n\\nget_planet_mass:\\ne.g. get_planet_mass: Earth\\nreturns weight of the planet in kg\\n\\nExample session:\\n\\nQuestion: What is the mass of Earth times 2?\\nThought: I need to find the mass of Earth\\nAction: get_planet_mass: Earth\\nPAUSE \\n\\nYou will be called again with this:\\n\\nObservation: 5.972e24\\n\\nThought: I need to multiply this by 2\\nAction: calculate: 5.972e24 * 2\\nPAUSE\\n\\nYou will be called again with this: \\n\\nObservation: 1,1944×10e25\\n\\nIf you have the answer, output it as the Answer.\\n\\nAnswer: The mass of Earth times 2 is 1,1944×10e25.\\n\\nNow it's your turn:\"},\n",
       " {'role': 'user', 'content': 'what is the mass of Earth times 5?'},\n",
       " {'role': 'assistant', 'content': 'Thought: I need to find the mass of Earth'},\n",
       " {'role': 'assistant', 'content': '.'},\n",
       " {'role': 'assistant', 'content': ' \\nAction: get_planet_mass: Earth \\nPAUSE'},\n",
       " {'role': 'user', 'content': 'Observation: 5.972e+24'},\n",
       " {'role': 'assistant', 'content': 'Thought: I need to multiply this by 5'},\n",
       " {'role': 'user', 'content': 'Observation: 5.972e+24'},\n",
       " {'role': 'assistant', 'content': 'Action: calculate: 5.972e24 * 5\\nPAUSE'},\n",
       " {'role': 'user', 'content': 'Observation: 2.9860000000000004e+25'},\n",
       " {'role': 'assistant',\n",
       "  'content': 'Answer: The mass of Earth times 5 is 2.9860000000000004e+25.'}]"
      ]
     },
     "execution_count": 19,
     "metadata": {},
     "output_type": "execute_result"
    }
   ],
   "source": [
    "neil_tyson.messages"
   ]
  },
  {
   "cell_type": "code",
   "execution_count": 20,
   "metadata": {},
   "outputs": [],
   "source": [
    "#importando a biblioteca re para a identificação da ação e do argumento\n",
    "import re\n",
    "#agora a ideia é produzir um agente que funcione em loop, descartando a necessidade de ficar executando células manualmente\n",
    "def agent_loop(max_iterations, system, query):\n",
    "    agent = Agent(client=client, system=system_prompt)\n",
    "    tools = [\"calculate\", \"get_planet_mass\"]\n",
    "    next_prompt = query\n",
    "    i = 0\n",
    "    while i < max_iterations: #define que o loop será executado até que i ( o contador ) seja menor que o número máximo de iterações\n",
    "        i += 1 #incrimenta 1 a i após cada iteração\n",
    "        result = agent(next_prompt) #Após cada loop result assume um valor diferente. No primeiro loop result está definido como query\n",
    "        print(result)\n",
    "        #Se pause e action estiver no resultado a biblioteca re irá achar qual é a ação e qual é o argumento da ação. \n",
    "        if \"PAUSE\" in result and \"Action\" in result:\n",
    "            action = re.findall(r\"Action: ([a-z_]+): (.+)\", result, re.IGNORECASE)\n",
    "            chosen_tool = action[0][0] # ferramenta encontrada\n",
    "            arg = action[0][1] #argumento do ferramenta\n",
    "\n",
    "            if chosen_tool in tools:\n",
    "                result_tool = eval(f\"{chosen_tool}('{arg}')\") #aqui a \"observação\" será salva e adicionada ao próximo prompt\n",
    "                next_prompt = f\"Observation: {result_tool}\"\n",
    "\n",
    "            else:   #caso não haja ferramenta haverá um erro\n",
    "                next_prompt = \"Observation: Tool not found\"\n",
    "\n",
    "            print(next_prompt)\n",
    "            continue #continua para a próxima iteração\n",
    "\n",
    "        if \"Answer\" in result: #se o termo answer estiver nos resultados o loop é encerrado e a resposta estará armazenada em result\n",
    "            break\n",
    "\n"
   ]
  },
  {
   "cell_type": "code",
   "execution_count": 21,
   "metadata": {},
   "outputs": [
    {
     "name": "stdout",
     "output_type": "stream",
     "text": [
      "Thought: I need to find the masses of Earth and Mercury, then add them together and multiply by 5.\n",
      "Action: get_planet_mass: Earth\n",
      "PAUSE\n",
      "Observation: 5.972e+24\n",
      "Thought: Now I have the mass of Earth, I need to find the mass of Mercury.\n",
      "Action: get_planet_mass: Mercury\n",
      "PAUSE\n",
      "Observation: 3.285e+23\n",
      "Thought: Now I have the masses of Earth and Mercury, I need to add them together.\n",
      "Action: calculate: 5.972e24 + 3.285e23\n",
      "PAUSE\n",
      "Observation: 6.300500000000001e+24\n",
      "Thought: Now I have the sum of the masses of Earth and Mercury, I need to multiply it by 5.\n",
      "Action: calculate: 6.300500000000001e24 * 5\n",
      "PAUSE\n",
      "Observation: 3.1502500000000004e+25\n",
      "Thought: I have the result of the multiplication, which is the answer to the question.\n",
      "\n",
      "Answer: The mass of the Earth plus the mass of Mercury, and all of it times 5 is 3.1502500000000004e+25.\n"
     ]
    }
   ],
   "source": [
    "agent_loop(10, system = system_prompt, query=\"what is the mass of the Earth plus the mass of Mercury, and All of it times 5\")"
   ]
  }
 ],
 "metadata": {
  "kernelspec": {
   "display_name": "venv",
   "language": "python",
   "name": "python3"
  },
  "language_info": {
   "codemirror_mode": {
    "name": "ipython",
    "version": 3
   },
   "file_extension": ".py",
   "mimetype": "text/x-python",
   "name": "python",
   "nbconvert_exporter": "python",
   "pygments_lexer": "ipython3",
   "version": "3.13.2"
  }
 },
 "nbformat": 4,
 "nbformat_minor": 2
}
