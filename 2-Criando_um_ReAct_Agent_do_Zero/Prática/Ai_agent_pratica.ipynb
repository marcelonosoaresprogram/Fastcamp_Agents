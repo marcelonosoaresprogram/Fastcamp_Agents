{
 "cells": [
  {
   "cell_type": "code",
   "execution_count": 1,
   "metadata": {},
   "outputs": [
    {
     "data": {
      "text/plain": [
       "True"
      ]
     },
     "execution_count": 1,
     "metadata": {},
     "output_type": "execute_result"
    }
   ],
   "source": [
    "#importei dotenv para puxar a api a partir de um arquivo local\n",
    "\n",
    "from dotenv import load_dotenv\n",
    "import os\n",
    "load_dotenv()"
   ]
  },
  {
   "cell_type": "code",
   "execution_count": 2,
   "metadata": {},
   "outputs": [
    {
     "name": "stdout",
     "output_type": "stream",
     "text": [
      "Fast language models are crucial in today's technology landscape, and their importance can be understood from several perspectives:\n",
      "\n",
      "1. **Efficient Processing**: Fast language models can process and analyze large amounts of text data quickly, which is essential for applications that require real-time or near-real-time processing, such as chatbots, virtual assistants, and language translation software.\n",
      "2. **Improved User Experience**: Fast language models enable applications to respond quickly to user input, providing a seamless and interactive experience. This is particularly important for applications that require immediate feedback, such as language translation, sentiment analysis, and text summarization.\n",
      "3. **Scalability**: Fast language models can handle a large volume of requests and data, making them ideal for large-scale applications, such as social media platforms, search engines, and content management systems.\n",
      "4. **Cost-Effectiveness**: Fast language models can reduce the computational resources required for language processing tasks, resulting in lower costs and increased efficiency. This is particularly important for applications that require significant computational resources, such as natural language processing (NLP) and machine learning (ML) models.\n",
      "5. **Competitive Advantage**: Organizations that adopt fast language models can gain a competitive advantage by providing faster and more accurate language processing capabilities, which can lead to improved customer satisfaction, increased revenue, and market share.\n",
      "6. **Real-Time Insights**: Fast language models can provide real-time insights and analytics, enabling organizations to respond quickly to changing market conditions, customer needs, and preferences.\n",
      "7. **Enhanced Security**: Fast language models can help detect and prevent security threats, such as phishing attacks, spam, and malware, by quickly analyzing and identifying suspicious patterns in text data.\n",
      "8. **Improved Accessibility**: Fast language models can facilitate communication across languages and cultures, enabling people to access information and services that were previously inaccessible due to language barriers.\n",
      "\n",
      "Some of the key applications of fast language models include:\n",
      "\n",
      "1. **Virtual Assistants**: Fast language models power virtual assistants, such as Siri, Alexa, and Google Assistant, which require quick and accurate responses to user queries.\n",
      "2. **Language Translation**: Fast language models enable real-time language translation, facilitating communication across languages and cultures.\n",
      "3. **Text Summarization**: Fast language models can quickly summarize large documents, providing users with concise and relevant information.\n",
      "4. **Sentiment Analysis**: Fast language models can analyze text data to determine sentiment and emotions, enabling organizations to respond quickly to customer feedback and concerns.\n",
      "5. **Chatbots**: Fast language models power chatbots, which require quick and accurate responses to user input to provide a seamless and interactive experience.\n",
      "\n",
      "In summary, fast language models are essential for a wide range of applications that require efficient, accurate, and real-time language processing capabilities. Their importance lies in their ability to provide improved user experiences, scalability, cost-effectiveness, competitive advantage, real-time insights, enhanced security, and improved accessibility.\n"
     ]
    }
   ],
   "source": [
    "import os\n",
    "\n",
    "from groq import Groq\n",
    "\n",
    "#Aqui estou fazendo uma chamando a API\n",
    "\n",
    "client = Groq(\n",
    "    api_key=os.environ.get(\"GROQ_API_KEY\"),\n",
    ")\n",
    "#chat completion inicia um chat que nesse caso está recebendo uma mensagem pré definida a título de exemplo.\n",
    "chat_completion = client.chat.completions.create(\n",
    "    messages=[\n",
    "        {\n",
    "            \"role\": \"user\",\n",
    "            \"content\": \"Explain the importance of fast language models\",\n",
    "        }\n",
    "    ],\n",
    "    model=\"llama-3.3-70b-versatile\",\n",
    ")\n",
    "\n",
    "print(chat_completion.choices[0].message.content)"
   ]
  },
  {
   "cell_type": "code",
   "execution_count": 61,
   "metadata": {},
   "outputs": [],
   "source": [
    "#aqui criamos a classe Agent, que recebe client e o prompt do sistema system como entrada, além de criar o self.messages, que será o histórico do nosso chat\n",
    "class Agent:\n",
    "    def __init__(self, client, system):\n",
    "        self.client = client\n",
    "        self.system = system\n",
    "        self.messages = []\n",
    "        if self.system is not None:\n",
    "            self.messages.append({\"role\": \"system\", \"content\": self.system})\n",
    "#call permite que a instância da classe Agent seja usada como um função, recebendo a mensagem do usuário como entrada para gerar um resultado result\n",
    "    def __call__(self, message=\"\"):\n",
    "        if message: \n",
    "            self.messages.append({\"role\":\"user\", \"content\": message})\n",
    "        result = self.execute()\n",
    "        self.messages.append({\"role\": \"assistant\", \"content\": result})\n",
    "        return result\n",
    "#função que irá ser executado no __call__, ela inicia o modelo de linguagem    \n",
    "    def execute(self):\n",
    "        completion = client.chat.completions.create(\n",
    "            messages = self.messages,\n",
    "            model = \"llama3-70b-8192\"\n",
    "        )\n",
    "        return completion.choices[0].message.content"
   ]
  },
  {
   "cell_type": "code",
   "execution_count": 62,
   "metadata": {},
   "outputs": [],
   "source": [
    "#prompt do sistema\n",
    "system_prompt = \"\"\"\n",
    "\n",
    "You run in a loop of Thought, Action, Pause, Observation.\n",
    "At the end of the loop you output an Answer\n",
    "Use Thought to describe your thoughts about the question you habe been asked.\n",
    "Use Action to run one of the action available to you - then return PAUSE.\n",
    "Observation will be the result of running those actions.\n",
    "\n",
    "You available actions are:\n",
    "\n",
    "calculat:\n",
    "e.g. calculate: 4 * 7 / 3\n",
    "Runs a calculatation and returns the number - uses python so be sure to use floating point syntax if necessary\n",
    "\n",
    "get_planet_mass:\n",
    "e.g. get_planet_mass: Earth\n",
    "returns weight of the planet in kg\n",
    "\n",
    "get_planet_relative_position:\n",
    "e.g. get_planet_relative_position: Earth\n",
    "returns Earths ordinal position as a string\n",
    "\n",
    "Example session:\n",
    "\n",
    "Question: What is the mass of Earth times 2 and what is the relative ordinal position?\n",
    "Thought: I neet to find the mass of Earth\n",
    "Action: get_planet_mass: Earth\n",
    "PAUSE\n",
    "\n",
    "You will be called again with this: \n",
    "\n",
    "Observation: 5.972e24\n",
    "\n",
    "Thought: I need to multiply this by 2 \n",
    "Action: calculate: 5.972e24 * 2\n",
    "PAUSE\n",
    "\n",
    "You will be called again with this:\n",
    "\n",
    "Observation: 5.972e24\n",
    "\n",
    "Thoutht: I need to multiply this by 2 \n",
    "Action: calculate  5.972e24 * 2\n",
    "PAUSE\n",
    "\n",
    "You will be called again with this:\n",
    "\n",
    "Observation: 1.1944x10e25\n",
    "\n",
    "Thoutht: now I need to find what is the relative position\n",
    "Action: get_planet_relative_location: earth\n",
    "PAUSE\n",
    "\n",
    "\n",
    "If you have the answer, output it as the Answer.\n",
    "\n",
    "Answer: The mass of Earth times 2 is 1,944x10e25 and your relative position is third. \n",
    "\n",
    "Now its your turn:\n",
    "\n",
    "\"\"\".strip()"
   ]
  },
  {
   "cell_type": "code",
   "execution_count": null,
   "metadata": {},
   "outputs": [],
   "source": [
    "# Ferramentas (Tools). No vídeo original há apenas 2, eu adicionei a ferramenta para descobrir a posição do planeta em relação ao sol\n",
    "def calculate(operation):\n",
    "    return eval(operation)\n",
    "\n",
    "def get_planet_mass(planet) -> float:\n",
    "    match planet.lower():\n",
    "        case \"earth\":\n",
    "            return 5.972e24\n",
    "        case \"mars\":\n",
    "            return 6.39e23\n",
    "        case \"jupiter\":\n",
    "            return 1.898e27\n",
    "        case \"saturn\":\n",
    "            return 5.683e26\n",
    "        case \"uranus\":\n",
    "            return 8.681e25\n",
    "        case \"neptune\":\n",
    "            return 1.024e26\n",
    "        case \"mercury\":\n",
    "            return 3.285e23\n",
    "        case \"venus\":\n",
    "            return 4.867e24\n",
    "        case _:\n",
    "            return 0.0\n",
    "\n",
    "def get_planet_relative_position(planet):\n",
    "    match planet.lower():\n",
    "        case \"earth\":\n",
    "            return \"third\"\n",
    "        case \"mercury\":\n",
    "            return \"first\"\n",
    "        case \"venus\":\n",
    "            return \"second\"\n",
    "        case \"mars\":\n",
    "            return \"fourth\"\n",
    "        case \"jupiter\":\n",
    "            return \"fifth\"\n",
    "        case \"saturn\":\n",
    "            return \"sixty\"\n",
    "        case _:\n",
    "            return None\n",
    "\n",
    "    "
   ]
  },
  {
   "cell_type": "code",
   "execution_count": null,
   "metadata": {},
   "outputs": [],
   "source": [
    "#instância da classe\n",
    "neil_tyson = Agent(client, system_prompt)"
   ]
  },
  {
   "cell_type": "code",
   "execution_count": null,
   "metadata": {},
   "outputs": [
    {
     "name": "stdout",
     "output_type": "stream",
     "text": [
      "Thought: I need to find the mass of Mercury.\n",
      "\n",
      "Action: get_planet_mass: Mercury\n",
      "PAUSE\n"
     ]
    }
   ],
   "source": [
    "#primeiro resultado\n",
    "result = neil_tyson(\"what is the mass of mercury and what is your relative position to solar star?\")\n",
    "print(result)"
   ]
  },
  {
   "cell_type": "code",
   "execution_count": null,
   "metadata": {},
   "outputs": [
    {
     "data": {
      "text/plain": [
       "[{'role': 'system',\n",
       "  'content': 'You run in a loop of Thought, Action, Pause, Observation.\\nAt the end of the loop you output an Answer\\nUse Thought to describe your thoughts about the question you habe been asked.\\nUse Action to run one of the action available to you - then return PAUSE.\\nObservation will be the result of running those actions.\\n\\nYou available actions are:\\n\\ncalculat:\\ne.g. calculate: 4 * 7 / 3\\nRuns a calculatation and returns the number - uses python so be sure to use floating point syntax if necessary\\n\\nget_planet_mass:\\ne.g. get_planet_mass: Earth\\nreturns weight of the planet in kg\\n\\nget_planet_relative_position:\\ne.g. get_planet_relative_position: Earth\\nreturns Earths ordinal position as a string\\n\\nExample session:\\n\\nQuestion: What is the mass of Earth times 2 and what is the relative ordinal position?\\nThought: I neet to find the mass of Earth\\nAction: get_planet_mass: Earth\\nPAUSE\\n\\nYou will be called again with this: \\n\\nObservation: 5.972e24\\n\\nThought: I need to multiply this by 2 \\nAction: calculate: 5.972e24 * 2\\nPAUSE\\n\\nYou will be called again with this:\\n\\nObservation: 5.972e24\\n\\nThoutht: I need to multiply this by 2 \\nAction: calculate  5.972e24 * 2\\nPAUSE\\n\\nYou will be called again with this:\\n\\nObservation: 1.1944x10e25\\n\\nThoutht: now I need to find what is the relative position\\nAction: get_planet_relative_location: earth\\nPAUSE\\n\\n\\nIf you have the answer, output it as the Answer.\\n\\nAnswer: The mass of Earth times 2 is 1,944x10e25 and your relative position is third. \\n\\nNow its your turn:'},\n",
       " {'role': 'user',\n",
       "  'content': 'what is the mass of mercury and what is your relative position to solar star?'},\n",
       " {'role': 'assistant',\n",
       "  'content': 'Thought: I need to find the mass of Mercury'}]"
      ]
     },
     "execution_count": 86,
     "metadata": {},
     "output_type": "execute_result"
    }
   ],
   "source": [
    "#histórico de mensagens\n",
    "neil_tyson.messages"
   ]
  },
  {
   "cell_type": "code",
   "execution_count": null,
   "metadata": {},
   "outputs": [
    {
     "name": "stdout",
     "output_type": "stream",
     "text": [
      "3.285e+23\n"
     ]
    }
   ],
   "source": [
    "#observação que recebe a saída da funçao\n",
    "observation01 = get_planet_mass(\"Mercury\")\n",
    "print(observation01)"
   ]
  },
  {
   "cell_type": "code",
   "execution_count": null,
   "metadata": {},
   "outputs": [
    {
     "name": "stdout",
     "output_type": "stream",
     "text": [
      "Thought: Now I need to find the relative position of Mercury to the solar star.\n",
      "\n",
      "Action: get_planet_relative_position: Mercury\n",
      "PAUSE\n"
     ]
    }
   ],
   "source": [
    "#próximo prompt que receberá a observação como entrada\n",
    "next_prompt = f\"Observation: {observation01}\"\n",
    "result = neil_tyson(next_prompt)\n",
    "print(result)"
   ]
  },
  {
   "cell_type": "code",
   "execution_count": null,
   "metadata": {},
   "outputs": [
    {
     "data": {
      "text/plain": [
       "[{'role': 'system',\n",
       "  'content': 'You run in a loop of Thought, Action, Pause, Observation.\\nAt the end of the loop you output an Answer\\nUse Thought to describe your thoughts about the question you habe been asked.\\nUse Action to run one of the action available to you - then return PAUSE.\\nObservation will be the result of running those actions.\\n\\nYou available actions are:\\n\\ncalculat:\\ne.g. calculate: 4 * 7 / 3\\nRuns a calculatation and returns the number - uses python so be sure to use floating point syntax if necessary\\n\\nget_planet_mass:\\ne.g. get_planet_mass: Earth\\nreturns weight of the planet in kg\\n\\nget_planet_relative_position:\\ne.g. get_planet_relative_position: Earth\\nreturns Earths ordinal position as a string\\n\\nExample session:\\n\\nQuestion: What is the mass of Earth times 2 and what is the relative ordinal position?\\nThought: I neet to find the mass of Earth\\nAction: get_planet_mass: Earth\\nPAUSE\\n\\nYou will be called again with this: \\n\\nObservation: 5.972e24\\n\\nThought: I need to multiply this by 2 \\nAction: calculate: 5.972e24 * 2\\nPAUSE\\n\\nYou will be called again with this:\\n\\nObservation: 5.972e24\\n\\nThoutht: I need to multiply this by 2 \\nAction: calculate  5.972e24 * 2\\nPAUSE\\n\\nYou will be called again with this:\\n\\nObservation: 1.1944x10e25\\n\\nThoutht: now I need to find what is the relative position\\nAction: get_planet_relative_location: earth\\nPAUSE\\n\\n\\nIf you have the answer, output it as the Answer.\\n\\nAnswer: The mass of Earth times 2 is 1,944x10e25 and your relative position is third. \\n\\nNow its your turn:'},\n",
       " {'role': 'user',\n",
       "  'content': 'what is the mass of mercury and what is your relative position to solar star?'},\n",
       " {'role': 'assistant',\n",
       "  'content': 'Thought: I need to find the mass of Mercury.\\n\\nAction: get_planet_mass: Mercury\\nPAUSE'},\n",
       " {'role': 'user', 'content': 'Observation: 3.285e+23'},\n",
       " {'role': 'assistant',\n",
       "  'content': 'Thought: Now I need to find the relative position of Mercury to the solar star.\\n\\nAction: get_planet_relative_position: Mercury\\nPAUSE'}]"
      ]
     },
     "execution_count": 96,
     "metadata": {},
     "output_type": "execute_result"
    }
   ],
   "source": [
    "#histórico de mensagens\n",
    "neil_tyson.messages"
   ]
  },
  {
   "cell_type": "code",
   "execution_count": null,
   "metadata": {},
   "outputs": [
    {
     "name": "stdout",
     "output_type": "stream",
     "text": [
      "first\n"
     ]
    }
   ],
   "source": [
    "#observação que recebe a saída da funçao\n",
    "observation02 = get_planet_relative_position(\"Mercury\")\n",
    "print(observation02)"
   ]
  },
  {
   "cell_type": "code",
   "execution_count": null,
   "metadata": {},
   "outputs": [
    {
     "name": "stdout",
     "output_type": "stream",
     "text": [
      "Thought: I have all the information I need.\n",
      "\n",
      "Answer: The mass of Mercury is 3.285e+23 kg and its relative position to the solar star is first.\n"
     ]
    }
   ],
   "source": [
    "#próximo prompt que receberá a observação como entrada e terá como saída o resultado esperado\n",
    "next_prompt = f\"Observation:{observation02}\"\n",
    "result = neil_tyson(next_prompt02)\n",
    "print(result)"
   ]
  },
  {
   "cell_type": "code",
   "execution_count": null,
   "metadata": {},
   "outputs": [
    {
     "data": {
      "text/plain": [
       "[{'role': 'system',\n",
       "  'content': 'You run in a loop of Thought, Action, Pause, Observation.\\nAt the end of the loop you output an Answer\\nUse Thought to describe your thoughts about the question you habe been asked.\\nUse Action to run one of the action available to you - then return PAUSE.\\nObservation will be the result of running those actions.\\n\\nYou available actions are:\\n\\ncalculat:\\ne.g. calculate: 4 * 7 / 3\\nRuns a calculatation and returns the number - uses python so be sure to use floating point syntax if necessary\\n\\nget_planet_mass:\\ne.g. get_planet_mass: Earth\\nreturns weight of the planet in kg\\n\\nget_planet_relative_position:\\ne.g. get_planet_relative_position: Earth\\nreturns Earths ordinal position as a string\\n\\nExample session:\\n\\nQuestion: What is the mass of Earth times 2 and what is the relative ordinal position?\\nThought: I neet to find the mass of Earth\\nAction: get_planet_mass: Earth\\nPAUSE\\n\\nYou will be called again with this: \\n\\nObservation: 5.972e24\\n\\nThought: I need to multiply this by 2 \\nAction: calculate: 5.972e24 * 2\\nPAUSE\\n\\nYou will be called again with this:\\n\\nObservation: 5.972e24\\n\\nThoutht: I need to multiply this by 2 \\nAction: calculate  5.972e24 * 2\\nPAUSE\\n\\nYou will be called again with this:\\n\\nObservation: 1.1944x10e25\\n\\nThoutht: now I need to find what is the relative position\\nAction: get_planet_relative_location: earth\\nPAUSE\\n\\n\\nIf you have the answer, output it as the Answer.\\n\\nAnswer: The mass of Earth times 2 is 1,944x10e25 and your relative position is third. \\n\\nNow its your turn:'},\n",
       " {'role': 'user',\n",
       "  'content': 'what is the mass of mercury and what is your relative position to solar star?'},\n",
       " {'role': 'assistant',\n",
       "  'content': 'Thought: I need to find the mass of Mercury.\\n\\nAction: get_planet_mass: Mercury\\nPAUSE'},\n",
       " {'role': 'user', 'content': 'Observation: 3.285e+23'},\n",
       " {'role': 'assistant',\n",
       "  'content': 'Thought: Now I need to find the relative position of Mercury to the solar star.\\n\\nAction: get_planet_relative_position: Mercury\\nPAUSE'},\n",
       " {'role': 'user', 'content': 'Observation:first'},\n",
       " {'role': 'assistant',\n",
       "  'content': 'Thought: I have all the information I need.\\n\\nAnswer: The mass of Mercury is 3.285e+23 kg and its relative position to the solar star is first.'}]"
      ]
     },
     "execution_count": 99,
     "metadata": {},
     "output_type": "execute_result"
    }
   ],
   "source": [
    "#histórico de mensagens\n",
    "neil_tyson.messages"
   ]
  },
  {
   "cell_type": "code",
   "execution_count": null,
   "metadata": {},
   "outputs": [],
   "source": [
    "import re\n",
    "# Essa classe representa tudo que foi feito anteriormente de forma manual, dessa vez de forma automática.\n",
    "#A função recebe o prompt do sistema, o número máximo de iterções do loop e o prompt do usuário.\n",
    "def agent_loop(max_iterations, system, query):\n",
    "    agent = Agent(client=client, system=system_prompt)\n",
    "    tools = [\"calculate\", \"get_planet_mass\", \"get_planet_relative_position\"]\n",
    "    next_prompt = query\n",
    "    i = 0\n",
    "    #O loop será executado até que i seja menor que o número de iterações definido\n",
    "    while i < max_iterations:\n",
    "        i += 1\n",
    "        result = agent(next_prompt)\n",
    "        print(result)\n",
    "#Nessa condicional é consultado se as strings necessárias estão presentes nos resultados e caso estejam, a função re.findall acessa o valor da ação nos resultados e o seu argumento\n",
    "        if \"PAUSE\" in result and \"Action\" in result:\n",
    "            action = re.findall(r\"Action: ([a-z_]+): (.+)\", result, re.IGNORECASE)\n",
    "#A partir do valor encontrado, alguma das ferramentas é executada com o argumento encontrado\n",
    "            chosen_tool = action[0][0]\n",
    "            arg = action[0][1]\n",
    "\n",
    "            if chosen_tool in tools:\n",
    "                result_tool = eval(f\"{chosen_tool}('{arg}')\")\n",
    "                next_prompt = f\"Observation: {result_tool}\"\n",
    "\n",
    "            else:\n",
    "                next_prompt = \"Observation: Tool not found\"\n",
    "\n",
    "            print(next_prompt)\n",
    "            continue\n",
    "\n",
    "        if \"Answer\" in result:\n",
    "            break\n",
    "#Após a i-ésima iteração o loop é finalizado e temos o resultado da query presente na variável result\n"
   ]
  },
  {
   "cell_type": "code",
   "execution_count": 104,
   "metadata": {},
   "outputs": [
    {
     "name": "stdout",
     "output_type": "stream",
     "text": [
      "Thought: I need to find the mass of Mercury.\n",
      "Action: get_planet_mass: Mercury\n",
      "PAUSE\n",
      "Observation: 3.285e+23\n",
      "Thought: I have the mass of Mercury, now I need to find its relative position.\n",
      "Action: get_planet_relative_position: Mercury\n",
      "PAUSE\n",
      "Observation: first\n",
      "Answer: The mass of Mercury is 3.285e+23 kg and its relative position is first.\n"
     ]
    }
   ],
   "source": [
    "agent_loop(10, system = system_prompt, query=\"what is the mass of Mercury, and All what is the relative position\")"
   ]
  }
 ],
 "metadata": {
  "kernelspec": {
   "display_name": "venv",
   "language": "python",
   "name": "python3"
  },
  "language_info": {
   "codemirror_mode": {
    "name": "ipython",
    "version": 3
   },
   "file_extension": ".py",
   "mimetype": "text/x-python",
   "name": "python",
   "nbconvert_exporter": "python",
   "pygments_lexer": "ipython3",
   "version": "3.13.2"
  }
 },
 "nbformat": 4,
 "nbformat_minor": 2
}
