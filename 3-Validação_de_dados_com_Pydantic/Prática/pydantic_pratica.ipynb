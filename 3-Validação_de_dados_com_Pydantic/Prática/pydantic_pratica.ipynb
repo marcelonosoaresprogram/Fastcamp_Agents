{
 "cells": [
  {
   "cell_type": "code",
   "execution_count": null,
   "metadata": {},
   "outputs": [],
   "source": [
    "from pydantic import (\n",
    "    BaseModel,\n",
    "    Field,\n",
    ")\n",
    "\n",
    "#importação das bibliotecas necessárias "
   ]
  },
  {
   "cell_type": "code",
   "execution_count": null,
   "metadata": {},
   "outputs": [],
   "source": [
    "#Classe Estoque, usada para fazer a contagem dos itens em estoque\n",
    "class Stock():\n",
    "    id: int\n",
    "    name: str\n",
    "    category: str\n",
    "    quantity:int\n",
    "\n",
    "    def __init__(self, id, name, category, quantity):\n",
    "        self.id = id\n",
    "        self.name = name\n",
    "        self.category = category\n",
    "        self.quantity = quantity\n",
    "#Usando modelo para validação das entradas. Eu poderia ter usado outras formas de validação, mas não achei necessário.\n",
    "class Stock_Request(BaseModel):\n",
    "    id: int = Field(ge=0,\n",
    "        description=\"É necessário fornecer ao sistema o identificador referente ao produto\",\n",
    "        )\n",
    "    #Nome do produto\n",
    "    name: str = Field(\n",
    "        min_length=3,\n",
    "        description= \"nome do produto\",\n",
    "        examples=[\"Absolut Vodka\", \"Tanqueray London Dry Gin\"]\n",
    "    )\n",
    "    #Categoria, sendo algo como bebida, alimento...\n",
    "    category: str = Field(\n",
    "        min_length=3, \n",
    "        description= \"Tipo de produto, bebida, equipamento ou insumo\",\n",
    "        examples=[\"Laranja\",\"Vodka\",\"Gin\",\"Whisky\",\"Energético,\",\"Refrigerante\"]\n",
    "    )\n",
    "    #Quantidade atual do produto\n",
    "    quantity: int = Field(ge=0)\n",
    "    #Class config definindo a estrutura do arquivo json que será visualizado na interface da FASTAPI\n",
    "    class Config:\n",
    "        json_schema_extra = {\n",
    "            'example':{\n",
    "                'id': 10,\n",
    "                'name': 'Suco de uva',\n",
    "                'category': 'Bebida',\n",
    "                'quantity': 4\n",
    "                }\n",
    "            }\n",
    "        "
   ]
  },
  {
   "cell_type": "code",
   "execution_count": 22,
   "metadata": {},
   "outputs": [],
   "source": [
    "#importando bibliotecas\n",
    "from fastapi import FastAPI, Path, HTTPException, status"
   ]
  },
  {
   "cell_type": "code",
   "execution_count": null,
   "metadata": {},
   "outputs": [],
   "source": [
    "app = FastAPI() #criando a app\n",
    "#Lista que irá armazenar os valores com o cadastro ou atualização do estoque\n",
    "Lista = [\n",
    "    Stock(1, \"Limão\", \"Insumo\", 2),\n",
    "    Stock(12, \"Sal\", \"Insumo\",1)\n",
    "]\n",
    "#Método post para adicionar item a lista\n",
    "@app.post('/stock/', status_code=status.HTTP_201_CREATED)\n",
    "async def create_stock(stock_request: Stock_Request):\n",
    "    new_stock = Stock(**stock_request.model_dump())\n",
    "    Lista.append(new_stock)\n",
    "    return new_stock\n",
    "#método get para visualizar os itens da lista\n",
    "@app.get('/stock/', status_code=status.HTTP_201_CREATED)\n",
    "async def read_all_stock():\n",
    "    return Lista\n",
    "#método get para pesquisar um item único na lista\n",
    "@app.get('/stock/{stock_id}', status_code= status.HTTP_200_OK)\n",
    "async def read_stock(stock_id: int = Path(gt=0)):\n",
    "    for stock in Lista:\n",
    "        if stock.id == stock_id:\n",
    "            return stock\n",
    "    raise HTTPException(status_code=404, detail='Stock not found')\n",
    "#método put, para atualizar itens da lista\n",
    "@app.put('/stock/{stock_id}', status_code=status.HTTP_200_OK)\n",
    "async def update_stock(stock_id:int, stock_request:Stock_Request):\n",
    "    for i, stock in enumerate(Lista): #procura item e quando acha faz a atualiação\n",
    "        if stock.id == stock_id:\n",
    "            updated_stock = Stock(      #tive que instanciar manualmente, pois (id = stock_id, **stock_request.model_dump()) estava dando conflito\n",
    "                id = stock_id,\n",
    "                name = stock_request.name,\n",
    "                category = stock_request.category,\n",
    "                quantity = stock_request.quantity\n",
    "            )\n",
    "            Lista[i] = updated_stock\n",
    "            return updated_stock\n",
    "    raise HTTPException(status_code= 404, detail= 'Stock not found')\n",
    "\n",
    "@app.delete('/stock/{stock_id}', status_code= status.HTTP_204_NO_CONTENT)\n",
    "async def delete_stock(stock_id:int): \n",
    "    for i, stock in enumerate(Lista): #procura item da lista e apaga ele com .pop\n",
    "        if stock.id == stock_id:\n",
    "            Lista.pop(i)\n",
    "            return\n",
    "    raise HTTPException(status_code=404, detail= 'Stock not found')\n"
   ]
  },
  {
   "cell_type": "markdown",
   "metadata": {},
   "source": [
    "Para iniciar o servidor em local host, basta instalar as dependencias e digitar \"fastapi dev main.py\" no terminal. O arquivo main.py estará no commit para testes práticos."
   ]
  }
 ],
 "metadata": {
  "kernelspec": {
   "display_name": "venv",
   "language": "python",
   "name": "python3"
  },
  "language_info": {
   "codemirror_mode": {
    "name": "ipython",
    "version": 3
   },
   "file_extension": ".py",
   "mimetype": "text/x-python",
   "name": "python",
   "nbconvert_exporter": "python",
   "pygments_lexer": "ipython3",
   "version": "3.13.2"
  }
 },
 "nbformat": 4,
 "nbformat_minor": 2
}
