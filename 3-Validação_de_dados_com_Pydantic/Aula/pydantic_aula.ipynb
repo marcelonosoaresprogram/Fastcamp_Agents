{
 "cells": [
  {
   "cell_type": "code",
   "execution_count": 1,
   "metadata": {},
   "outputs": [],
   "source": [
    "from enum import auto, IntFlag\n",
    "from typing import Any\n",
    "from pydantic import (\n",
    "    BaseModel,\n",
    "    EmailStr,\n",
    "    Field,\n",
    "    SecretStr,\n",
    "    ValidationError,\n",
    ")\n",
    "#importação das bibliotecas necessárias "
   ]
  },
  {
   "cell_type": "code",
   "execution_count": null,
   "metadata": {},
   "outputs": [],
   "source": [
    "#Classe Role\n",
    "#Usa intflag, que permite que os valores sejam automaticamente enumerados e combinados, como na caso do admin. a função auto() define que cada instância recebe um valor que é uma potência de 2\n",
    "#author = 1, editor = 2, developer = 4, admin = 1+2+4 = 7\n",
    "class Role(IntFlag):\n",
    "    Author = auto()\n",
    "    Editor = auto()\n",
    "    Developer = auto()\n",
    "    Admin = Author | Editor | Developer"
   ]
  },
  {
   "cell_type": "code",
   "execution_count": null,
   "metadata": {},
   "outputs": [],
   "source": [
    "#Classe User \n",
    "class User(BaseModel):\n",
    "    #O nome, email, senha e role, serão inseridos como como entrada na instância da classe User.\n",
    "    #Note que o conteúdo dos campos é definido pelos módulos importados de pydantic.\n",
    "    #Eles fazem uma \"pré-validação\" dos dados que serão inseridos.\n",
    "    name : str = Field(examples= [\"Arjan\"])\n",
    "    #O email deve conter a estrutura de um email \"abc@def.com\", caso contrário haverá um erro na instanciação\n",
    "    email : EmailStr = Field(\n",
    "        examples = [\"exampleam@arjancodes.com\"],\n",
    "        description = \"The email adress of the user\",\n",
    "        frozen = True,\n",
    "    )\n",
    "    #A senha será recebida e em caso de visualização, ela será exposta de forma anonimizada \n",
    "    password : SecretStr = Field(\n",
    "        examples= [\"Password123\"], description=\"The password of the user\" \n",
    "    )\n",
    "    #Como default=None, esse campo é opcional. Mas caso não fosse, receberia os valores de Role, como Role.Author.\n",
    "    #Na visualização é possível obter com print(User.role) a saída Role.\n",
    "    # (alguma das trẽs), ou, por exemplo print(int(User.role)) uma saída numérica que corresponde aos valores da intflag\n",
    "    role: Role = Field(\n",
    "        default=None,\n",
    "        description=\"The role of the user\"\n",
    "    )\n",
    "    "
   ]
  },
  {
   "cell_type": "code",
   "execution_count": null,
   "metadata": {},
   "outputs": [],
   "source": [
    "#validade recebe um dicionário que contém os valores da classe Usuário e faz a validação deles.\n",
    "def validate(data: dict[str, Any]) -> None:\n",
    "    try:\n",
    "        user = User.model_validate(data)\n",
    "        print(user)\n",
    "    except ValidationError as e:\n",
    "        #No caso de uma entrada inválida, a saída irá conter os erros de forma a possibilitar\n",
    "        #  de forma simples a correção da falha.\n",
    "        print(\"User is invalid\")\n",
    "        for error in e.errors():\n",
    "            print(error)"
   ]
  },
  {
   "cell_type": "code",
   "execution_count": null,
   "metadata": {},
   "outputs": [
    {
     "name": "stdout",
     "output_type": "stream",
     "text": [
      "name='Arjan' email='example@arjancodes.com' password=SecretStr('**********') role=None\n",
      "User is invalid\n",
      "{'type': 'missing', 'loc': ('name',), 'msg': 'Field required', 'input': {'email': '<bad data>', 'password': '<bad data>'}, 'url': 'https://errors.pydantic.dev/2.10/v/missing'}\n",
      "{'type': 'value_error', 'loc': ('email',), 'msg': 'value is not a valid email address: An email address must have an @-sign.', 'input': '<bad data>', 'ctx': {'reason': 'An email address must have an @-sign.'}}\n"
     ]
    }
   ],
   "source": [
    "#Nessa função principal a função validade valida 2 exemplos de entradas. A boa entrada é aprovada, enquanto a entrada ruim é rejeitada.\n",
    "def main() -> None:\n",
    "    good_data = {\n",
    "        \"name\":\"Arjan\",\n",
    "        \"email\":\"example@arjancodes.com\",\n",
    "        \"password\":\"Password123\",\n",
    "    }\n",
    "    bad_data = {\n",
    "        \"email\":\"<bad data>\",\"password\": \"<bad data>\"\n",
    "    }\n",
    "\n",
    "    validate(good_data)\n",
    "    validate(bad_data)\n",
    "\n",
    "if __name__ == \"__main__\":\n",
    "        main()"
   ]
  },
  {
   "cell_type": "code",
   "execution_count": null,
   "metadata": {},
   "outputs": [
    {
     "name": "stdout",
     "output_type": "stream",
     "text": [
      "name='Pedro' email='Pedro@gmail.com' password=SecretStr('**********') role=<Role.Author: 1>\n"
     ]
    }
   ],
   "source": [
    "#exemplo de validação\n",
    "usuario_correto = User(name = \"Pedro\", email = \"Pedro@gmail.com\", password= \"Pedro123\", role=1)\n",
    "validate(usuario_correto)"
   ]
  },
  {
   "cell_type": "code",
   "execution_count": null,
   "metadata": {},
   "outputs": [
    {
     "ename": "ValidationError",
     "evalue": "1 validation error for User\nemail\n  value is not a valid email address: The email address contains invalid characters before the @-sign: '('. [type=value_error, input_value='Pedro(@)gmail,com', input_type=str]",
     "output_type": "error",
     "traceback": [
      "\u001b[31m---------------------------------------------------------------------------\u001b[39m",
      "\u001b[31mValidationError\u001b[39m                           Traceback (most recent call last)",
      "\u001b[36mCell\u001b[39m\u001b[36m \u001b[39m\u001b[32mIn[19]\u001b[39m\u001b[32m, line 1\u001b[39m\n\u001b[32m----> \u001b[39m\u001b[32m1\u001b[39m usuario_invalido = \u001b[43mUser\u001b[49m\u001b[43m(\u001b[49m\u001b[43mname\u001b[49m\u001b[43m \u001b[49m\u001b[43m=\u001b[49m\u001b[43m \u001b[49m\u001b[33;43m\"\u001b[39;49m\u001b[33;43mPedro123\u001b[39;49m\u001b[33;43m\"\u001b[39;49m\u001b[43m,\u001b[49m\u001b[43m \u001b[49m\u001b[43memail\u001b[49m\u001b[43m \u001b[49m\u001b[43m=\u001b[49m\u001b[43m \u001b[49m\u001b[33;43m\"\u001b[39;49m\u001b[33;43mPedro(@)gmail,com\u001b[39;49m\u001b[33;43m\"\u001b[39;49m\u001b[43m,\u001b[49m\u001b[43m \u001b[49m\u001b[43mpassword\u001b[49m\u001b[43m=\u001b[49m\u001b[43m \u001b[49m\u001b[33;43m\"\u001b[39;49m\u001b[33;43mPedro123\u001b[39;49m\u001b[33;43m\"\u001b[39;49m\u001b[43m)\u001b[49m\n\u001b[32m      2\u001b[39m validate(usuario_invalido)\n",
      "\u001b[36mFile \u001b[39m\u001b[32m~/Documents/Ai_Agent_Bootcamp/Ai_Agent_atividade3/venv/lib/python3.13/site-packages/pydantic/main.py:214\u001b[39m, in \u001b[36mBaseModel.__init__\u001b[39m\u001b[34m(self, **data)\u001b[39m\n\u001b[32m    212\u001b[39m \u001b[38;5;66;03m# `__tracebackhide__` tells pytest and some other tools to omit this function from tracebacks\u001b[39;00m\n\u001b[32m    213\u001b[39m __tracebackhide__ = \u001b[38;5;28;01mTrue\u001b[39;00m\n\u001b[32m--> \u001b[39m\u001b[32m214\u001b[39m validated_self = \u001b[38;5;28;43mself\u001b[39;49m\u001b[43m.\u001b[49m\u001b[43m__pydantic_validator__\u001b[49m\u001b[43m.\u001b[49m\u001b[43mvalidate_python\u001b[49m\u001b[43m(\u001b[49m\u001b[43mdata\u001b[49m\u001b[43m,\u001b[49m\u001b[43m \u001b[49m\u001b[43mself_instance\u001b[49m\u001b[43m=\u001b[49m\u001b[38;5;28;43mself\u001b[39;49m\u001b[43m)\u001b[49m\n\u001b[32m    215\u001b[39m \u001b[38;5;28;01mif\u001b[39;00m \u001b[38;5;28mself\u001b[39m \u001b[38;5;129;01mis\u001b[39;00m \u001b[38;5;129;01mnot\u001b[39;00m validated_self:\n\u001b[32m    216\u001b[39m     warnings.warn(\n\u001b[32m    217\u001b[39m         \u001b[33m'\u001b[39m\u001b[33mA custom validator is returning a value other than `self`.\u001b[39m\u001b[38;5;130;01m\\n\u001b[39;00m\u001b[33m'\u001b[39m\n\u001b[32m    218\u001b[39m         \u001b[33m\"\u001b[39m\u001b[33mReturning anything other than `self` from a top level model validator isn\u001b[39m\u001b[33m'\u001b[39m\u001b[33mt supported when validating via `__init__`.\u001b[39m\u001b[38;5;130;01m\\n\u001b[39;00m\u001b[33m\"\u001b[39m\n\u001b[32m    219\u001b[39m         \u001b[33m'\u001b[39m\u001b[33mSee the `model_validator` docs (https://docs.pydantic.dev/latest/concepts/validators/#model-validators) for more details.\u001b[39m\u001b[33m'\u001b[39m,\n\u001b[32m    220\u001b[39m         stacklevel=\u001b[32m2\u001b[39m,\n\u001b[32m    221\u001b[39m     )\n",
      "\u001b[31mValidationError\u001b[39m: 1 validation error for User\nemail\n  value is not a valid email address: The email address contains invalid characters before the @-sign: '('. [type=value_error, input_value='Pedro(@)gmail,com', input_type=str]"
     ]
    }
   ],
   "source": [
    "#exemplo de erro produzido em razão de dados inválidos\n",
    "usuario_invalido = User(name = \"Pedro123\", email = \"Pedro(@)gmail,com\", password= \"Pedro123\")\n",
    "validate(usuario_invalido)"
   ]
  }
 ],
 "metadata": {
  "kernelspec": {
   "display_name": "venv",
   "language": "python",
   "name": "python3"
  },
  "language_info": {
   "codemirror_mode": {
    "name": "ipython",
    "version": 3
   },
   "file_extension": ".py",
   "mimetype": "text/x-python",
   "name": "python",
   "nbconvert_exporter": "python",
   "pygments_lexer": "ipython3",
   "version": "3.12.9"
  }
 },
 "nbformat": 4,
 "nbformat_minor": 2
}
